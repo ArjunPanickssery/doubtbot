{
 "cells": [
  {
   "cell_type": "code",
   "execution_count": 1,
   "metadata": {},
   "outputs": [
    {
     "name": "stderr",
     "output_type": "stream",
     "text": [
      "/root/doubtbot/venv/lib/python3.10/site-packages/tqdm/auto.py:21: TqdmWarning: IProgress not found. Please update jupyter and ipywidgets. See https://ipywidgets.readthedocs.io/en/stable/user_install.html\n",
      "  from .autonotebook import tqdm as notebook_tqdm\n"
     ]
    }
   ],
   "source": [
    "%load_ext autoreload\n",
    "%autoreload 2\n",
    "from data import load_data, transform_to_question_answer_pair\n",
    "from model_wrappers import HuggingFaceWrapper, Llama3Wrapper, GPTWrapper"
   ]
  },
  {
   "cell_type": "code",
   "execution_count": 2,
   "metadata": {},
   "outputs": [],
   "source": [
    "train_data, test_data = load_data()\n",
    "sample = transform_to_question_answer_pair(train_data[:10])"
   ]
  },
  {
   "cell_type": "code",
   "execution_count": 3,
   "metadata": {},
   "outputs": [],
   "source": [
    "# critic = Llama2Wrapper(\"llama2_7b\", \"meta-llama/Llama-2-7b-chat-hf\")\n",
    "# critic = judge = Llama3Wrapper(\n",
    "#     \"llama3_8b\", \"meta-llama/Meta-Llama-3-8B-Instruct\"\n",
    "# )"
   ]
  },
  {
   "cell_type": "code",
   "execution_count": 4,
   "metadata": {},
   "outputs": [],
   "source": [
    "g = GPTWrapper(\"gpt4o\", \"gpt-3.5-turbo-0125\")"
   ]
  },
  {
   "cell_type": "code",
   "execution_count": 5,
   "metadata": {},
   "outputs": [
    {
     "data": {
      "text/plain": [
       "'If music be the food of love, play on;\\nGive me excess of it, that, surfeiting,\\nThe appetite may sicken, and so die.'"
      ]
     },
     "execution_count": 5,
     "metadata": {},
     "output_type": "execute_result"
    }
   ],
   "source": [
    "g._response('You are Shakespeare.', 'What food do you like?', 'Tuna because')"
   ]
  },
  {
   "cell_type": "code",
   "execution_count": 6,
   "metadata": {},
   "outputs": [
    {
     "data": {
      "text/plain": [
       "'Betty is saving money for a new wallet which costs $100. Betty has only half of the money she needs. Her parents decided to give her $15 for that purpose, and her grandparents twice as much as her parents. How much more money does Betty need to buy the wallet?'"
      ]
     },
     "execution_count": 6,
     "metadata": {},
     "output_type": "execute_result"
    }
   ],
   "source": [
    "sample[5].question"
   ]
  },
  {
   "cell_type": "code",
   "execution_count": 7,
   "metadata": {},
   "outputs": [
    {
     "data": {
      "text/plain": [
       "\"The proof provided for the answer contains several mistakes and inaccuracies. Let's break them down:\\n\\n1. Incorrect Calculation of Initial Savings:\\nThe proof states that Betty has half of the money she needs, which is correctly calculated as $50. However, the subsequent calculations do not align with this initial amount. The proof should have continued with this correct starting point.\\n\\n2. Incorrect Calculation of Grandparents' Contribution:\\nThe proof states that Betty's grandparents gave her $30, which is twice the amount given by her parents. However, this calculation is incorrect. If her parents gave her $15, then twice that amount would be $30, not $30 additional. Therefore, the correct amount Betty received from her grandparents should be $30 - $15 = $15.\\n\\n3. Incorrect Calculation of Remaining Amount Needed:\\nThe proof incorrectly subtracts the initial savings and the total amount received from both parents and grandparents from the cost of the wallet. The correct calculation should be $100 - $50 - $15 - $15 = $20. Therefore, Betty actually needs $20 more to buy the wallet, not $20.0 as stated in the answer.\\n\\nIn conclusion, the answer provided is incorrect due to the errors in calculating the initial savings, the grandparents' contribution, and the remaining amount needed. The correct amount Betty needs to buy the wallet is $20, not $20.0 as claimed in the answer.\""
      ]
     },
     "execution_count": 7,
     "metadata": {},
     "output_type": "execute_result"
    }
   ],
   "source": [
    "c = g.critique(sample[5])\n",
    "c"
   ]
  },
  {
   "cell_type": "code",
   "execution_count": 10,
   "metadata": {},
   "outputs": [
    {
     "name": "stdout",
     "output_type": "stream",
     "text": [
      "{'Yes': 0.42066652598096355, 'No': 0.5793334740190365}\n"
     ]
    },
    {
     "data": {
      "text/plain": [
       "0.42066652598096355"
      ]
     },
     "execution_count": 10,
     "metadata": {},
     "output_type": "execute_result"
    }
   ],
   "source": [
    "g.get_judge_confidence(sample[5])"
   ]
  },
  {
   "cell_type": "code",
   "execution_count": 8,
   "metadata": {},
   "outputs": [
    {
     "name": "stdout",
     "output_type": "stream",
     "text": [
      "{'Yes': 7.060063943219716e-06, 'No': 0.9999929399360568}\n"
     ]
    },
    {
     "data": {
      "text/plain": [
       "7.060063943219716e-06"
      ]
     },
     "execution_count": 8,
     "metadata": {},
     "output_type": "execute_result"
    }
   ],
   "source": [
    "g.get_judge_confidence(sample[5], c)"
   ]
  }
 ],
 "metadata": {
  "kernelspec": {
   "display_name": "venv",
   "language": "python",
   "name": "python3"
  },
  "language_info": {
   "codemirror_mode": {
    "name": "ipython",
    "version": 3
   },
   "file_extension": ".py",
   "mimetype": "text/x-python",
   "name": "python",
   "nbconvert_exporter": "python",
   "pygments_lexer": "ipython3",
   "version": "3.10.13"
  }
 },
 "nbformat": 4,
 "nbformat_minor": 2
}
